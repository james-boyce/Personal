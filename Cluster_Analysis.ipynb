{
 "cells": [
  {
   "cell_type": "code",
   "execution_count": 1,
   "metadata": {},
   "outputs": [],
   "source": [
    "import pandas as pd\n",
    "import seaborn as sns\n",
    "import numpy as np"
   ]
  },
  {
   "cell_type": "code",
   "execution_count": 3,
   "metadata": {},
   "outputs": [],
   "source": [
    "#Import dataset\n",
    "df= pd.read_excel('Cluster_3_SVD.xlsx')\n",
    "df2= pd.read_excel('Cluster_5_SVD.xlsx')"
   ]
  },
  {
   "cell_type": "code",
   "execution_count": 4,
   "metadata": {},
   "outputs": [],
   "source": []
  },
  {
   "cell_type": "code",
   "execution_count": 19,
   "metadata": {},
   "outputs": [],
   "source": [
    "clean_3 = df[['Text_Topic', 'Text_Length', 'SVD Text1', 'SVD Text2', 'SVD Text3', 'SVD Summary1', 'SVD Summary2', 'SVD Summary3']]"
   ]
  },
  {
   "cell_type": "code",
   "execution_count": 20,
   "metadata": {},
   "outputs": [],
   "source": [
    "def compare_clusters(cMethod, data):\n",
    "    ##Evaluate how many clusters to use\n",
    "    from sklearn.cluster import KMeans\n",
    "    from sklearn.cluster import DBSCAN\n",
    "    import matplotlib.pyplot as plt\n",
    "    import warnings\n",
    "    #Remove Review Summary and Review_Text (No longer required)\n",
    "    data_clustered = data\n",
    "\n",
    "    #Initialise cluster validation df\n",
    "    #cluster_val = pd.DataFrame(columns = [\"Davies Bouldin Score\", \"Silhouette Score\", \"Calinski Harabaz Score\"])\n",
    "\n",
    "    #Loop through 2-10 clusters\n",
    "    for k in range(2, 11):\n",
    "        #Initialise clusters with n_clusters=loop value\n",
    "        clust = cMethod(n_clusters=k, max_iter=10000)\n",
    "\n",
    "        #Fit model and assign labels to an array\n",
    "        My_clustering=clust.fit(data_clustered)\n",
    "        labels = My_clustering.labels_\n",
    "\n",
    "        #Ignore warnings due to Davies Bouldin Score producing annoying runtime warning\n",
    "        warnings.filterwarnings(\"ignore\")\n",
    "\n",
    "        #Setup score gathering metrics\n",
    "        from sklearn.metrics import davies_bouldin_score\n",
    "        from sklearn.metrics import silhouette_score\n",
    "        from sklearn import metrics\n",
    "        from sklearn.metrics import pairwise_distances\n",
    "\n",
    "        #Set each score into array having 1 tuple for the three scores\n",
    "        scores = [(round(davies_bouldin_score(data_clustered, labels), 3), \n",
    "                        round(silhouette_score(data_clustered, labels), 3),  \n",
    "                        round(metrics.calinski_harabaz_score(data_clustered, labels), 3))]\n",
    "\n",
    "        #Initilise and fill iteration cluster df with the scores\n",
    "        cluster_iter = pd.DataFrame(scores, columns = [\"Davies Bouldin Score\", \"Silhouette Score\", \"Calinski Harabaz Score\"])\n",
    "\n",
    "        #Append to main df\n",
    "        cluster_val = cluster_val.append(cluster_iter, ignore_index=True, sort = False)\n",
    "\n",
    "    #Return warnings to normal\n",
    "    warnings.filterwarnings(\"default\")\n",
    "\n",
    "    #Change indexs and index title to match clusters\n",
    "    cluster_val = cluster_val.set_index([pd.Index([2,3,4,5,6,7,8,9,10])])\n",
    "    cluster_val.index.names = ['Clusters']\n",
    "    print(cluster_val)"
   ]
  },
  {
   "cell_type": "code",
   "execution_count": null,
   "metadata": {},
   "outputs": [],
   "source": [
    "#Decide how many clusters to use\n",
    "from sklearn.cluster import KMeans\n",
    "compare_clusters(KMeans, clean_3)"
   ]
  },
  {
   "cell_type": "code",
   "execution_count": null,
   "metadata": {},
   "outputs": [],
   "source": []
  },
  {
   "cell_type": "code",
   "execution_count": null,
   "metadata": {},
   "outputs": [],
   "source": [
    "#Initialise cluster analysis\n",
    "from sklearn.cluster import KMeans\n",
    "chosen_clusters = 2\n",
    "My_kmeans = KMeans(n_clusters=chosen_clusters, max_iter=10000)\n",
    "    \n",
    "#Remove Review Summary and Review_Text (No longer required and cannot be used in clustering)\n",
    "data_clustered = data_topics.drop([\"Review_Summary\", \"Review_Text\"], axis = 1)\n",
    "\n",
    "#Fit model\n",
    "My_clustering=My_kmeans.fit(data_clustered)\n",
    "labels = My_clustering.labels_\n",
    "\n",
    "#Set labels column\n",
    "data_clustered['cluster_number']=My_clustering.labels_"
   ]
  },
  {
   "cell_type": "code",
   "execution_count": null,
   "metadata": {},
   "outputs": [],
   "source": []
  },
  {
   "cell_type": "code",
   "execution_count": null,
   "metadata": {},
   "outputs": [],
   "source": [
    "##Plot clusters\n",
    "from sklearn.datasets import make_blobs\n",
    "import matplotlib.pyplot as plt\n",
    "\n",
    "#Create blobs\n",
    "data = make_blobs(n_samples=500, n_features=2, centers=2, cluster_std=1, random_state=1)\n",
    "points = data[0]\n",
    "y_km = My_clustering.fit_predict(points)\n",
    "centres = My_clustering.cluster_centers_\n",
    "\n",
    "#Plot Cluster 0 (Red)\n",
    "plt.scatter(points[y_km ==0,0], points[y_km == 0,1], s=100, c='r')\n",
    "plotLabel2 = plt.annotate('c0', centres[0], horizontalalignment='center',\n",
    "                 verticalalignment='center',\n",
    "                 size=20, weight='bold',c='w')\n",
    "\n",
    "#Plot Cluster 1(Black)\n",
    "plt.scatter(points[y_km ==1,0], points[y_km == 1,1], s=100, c='k')\n",
    "plotLabel1 = plt.annotate('c1', centres[1], horizontalalignment='center',\n",
    "                 verticalalignment='center',\n",
    "                 size=20, weight='bold',c='w')"
   ]
  },
  {
   "cell_type": "code",
   "execution_count": null,
   "metadata": {},
   "outputs": [],
   "source": []
  },
  {
   "cell_type": "code",
   "execution_count": null,
   "metadata": {},
   "outputs": [],
   "source": []
  }
 ],
 "metadata": {
  "kernelspec": {
   "display_name": "Python 3",
   "language": "python",
   "name": "python3"
  },
  "language_info": {
   "codemirror_mode": {
    "name": "ipython",
    "version": 3
   },
   "file_extension": ".py",
   "mimetype": "text/x-python",
   "name": "python",
   "nbconvert_exporter": "python",
   "pygments_lexer": "ipython3",
   "version": "3.7.6"
  }
 },
 "nbformat": 4,
 "nbformat_minor": 4
}
